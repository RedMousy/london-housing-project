{
 "cells": [
  {
   "cell_type": "markdown",
   "metadata": {
    "colab_type": "text",
    "id": "Tia3MP1SJpgj"
   },
   "source": [
    "# Springboard Data Science Career Track Unit 4 Challenge - Tier 3 Complete\n",
    "\n",
    "## Objectives\n",
    "Hey! Great job getting through those challenging DataCamp courses. You're learning a lot in a short span of time. \n",
    "\n",
    "In this notebook, you're going to apply the skills you've been learning, bridging the gap between the controlled environment of DataCamp and the *slightly* messier work that data scientists do with actual datasets!\n",
    "\n",
    "Here’s the mystery we’re going to solve: ***which boroughs of London have seen the greatest increase in housing prices, on average, over the last two decades?***\n",
    "\n",
    "\n",
    "A borough is just a fancy word for district. You may be familiar with the five boroughs of New York… well, there are 32 boroughs within Greater London [(here's some info for the curious)](https://en.wikipedia.org/wiki/London_boroughs). Some of them are more desirable areas to live in, and the data will reflect that with a greater rise in housing prices.\n",
    "\n",
    "***This is the Tier 3 notebook, which means it's not filled in at all: we'll just give you the skeleton of a project, the brief and the data. It's up to you to play around with it and see what you can find out! Good luck! If you struggle, feel free to look at easier tiers for help; but try to dip in and out of them, as the more independent work you do, the better it is for your learning!***\n",
    "\n",
    "This challenge will make use of only what you learned in the following DataCamp courses: \n",
    "- Prework courses (Introduction to Python for Data Science, Intermediate Python for Data Science)\n",
    "- Data Types for Data Science\n",
    "- Python Data Science Toolbox (Part One) \n",
    "- pandas Foundations\n",
    "- Manipulating DataFrames with pandas\n",
    "- Merging DataFrames with pandas\n",
    "\n",
    "Of the tools, techniques and concepts in the above DataCamp courses, this challenge should require the application of the following: \n",
    "- **pandas**\n",
    "    - **data ingestion and inspection** (pandas Foundations, Module One) \n",
    "    - **exploratory data analysis** (pandas Foundations, Module Two)\n",
    "    - **tidying and cleaning** (Manipulating DataFrames with pandas, Module Three) \n",
    "    - **transforming DataFrames** (Manipulating DataFrames with pandas, Module One)\n",
    "    - **subsetting DataFrames with lists** (Manipulating DataFrames with pandas, Module One) \n",
    "    - **filtering DataFrames** (Manipulating DataFrames with pandas, Module One) \n",
    "    - **grouping data** (Manipulating DataFrames with pandas, Module Four) \n",
    "    - **melting data** (Manipulating DataFrames with pandas, Module Three) \n",
    "    - **advanced indexing** (Manipulating DataFrames with pandas, Module Four) \n",
    "- **matplotlib** (Intermediate Python for Data Science, Module One)\n",
    "- **fundamental data types** (Data Types for Data Science, Module One) \n",
    "- **dictionaries** (Intermediate Python for Data Science, Module Two)\n",
    "- **handling dates and times** (Data Types for Data Science, Module Four)\n",
    "- **function definition** (Python Data Science Toolbox - Part One, Module One)\n",
    "- **default arguments, variable length, and scope** (Python Data Science Toolbox - Part One, Module Two) \n",
    "- **lambda functions and error handling** (Python Data Science Toolbox - Part One, Module Four) "
   ]
  },
  {
   "cell_type": "markdown",
   "metadata": {
    "colab_type": "text",
    "id": "Ipgd2nV8Jpgl"
   },
   "source": [
    "## The Data Science Pipeline\n",
    "\n",
    "This is Tier Three, so we'll get you started. But after that, it's all in your hands! When you feel done with your investigations, look back over what you've accomplished, and prepare a quick presentation of your findings for the next mentor meeting. \n",
    "\n",
    "Data Science is magical. In this case study, you'll get to apply some complex machine learning algorithms. But as  [David Spiegelhalter](https://www.youtube.com/watch?v=oUs1uvsz0Ok) reminds us, there is no substitute for simply **taking a really, really good look at the data.** Sometimes, this is all we need to answer our question.\n",
    "\n",
    "Data Science projects generally adhere to the four stages of Data Science Pipeline:\n",
    "1. Sourcing and loading \n",
    "2. Cleaning, transforming, and visualizing \n",
    "3. Modeling \n",
    "4. Evaluating and concluding \n"
   ]
  },
  {
   "cell_type": "markdown",
   "metadata": {
    "colab_type": "text",
    "id": "zswDqbefJpgm"
   },
   "source": [
    "### 1. Sourcing and Loading \n",
    "\n",
    "Any Data Science project kicks off by importing  ***pandas***. The documentation of this wonderful library can be found [here](https://pandas.pydata.org/). As you've seen, pandas is conveniently connected to the [Numpy](http://www.numpy.org/) and [Matplotlib](https://matplotlib.org/) libraries. \n",
    "\n",
    "***Hint:*** This part of the data science pipeline will test those skills you acquired in the pandas Foundations course, Module One. "
   ]
  },
  {
   "cell_type": "markdown",
   "metadata": {
    "colab_type": "text",
    "id": "aEau5nEvJpgm"
   },
   "source": [
    "#### 1.1. Importing Libraries"
   ]
  },
  {
   "cell_type": "code",
   "execution_count": 1,
   "metadata": {
    "colab": {},
    "colab_type": "code",
    "id": "7Bt_Q_oPJpgn"
   },
   "outputs": [],
   "source": [
    "# Let's import the pandas, numpy libraries as pd, and np respectively. \n",
    "import pandas as pd\n",
    "import numpy as np\n",
    "\n",
    "# Load the pyplot collection of functions from matplotlib, as plt \n",
    "import matplotlib.pyplot as plt"
   ]
  },
  {
   "cell_type": "markdown",
   "metadata": {
    "colab_type": "text",
    "id": "koUrawxsJpgq"
   },
   "source": [
    "#### 1.2.  Loading the data\n",
    "Your data comes from the [London Datastore](https://data.london.gov.uk/): a free, open-source data-sharing portal for London-oriented datasets. "
   ]
  },
  {
   "cell_type": "code",
   "execution_count": 2,
   "metadata": {
    "colab": {},
    "colab_type": "code",
    "id": "AiLiD4v3Jpgr"
   },
   "outputs": [],
   "source": [
    "# First, make a variable called url_LondonHousePrices, and assign it the following link, enclosed in quotation-marks as a string:\n",
    "# https://data.london.gov.uk/download/uk-house-price-index/70ac0766-8902-4eb5-aab5-01951aaed773/UK%20House%20price%20index.xls\n",
    "\n",
    "url_LondonHousePrices = \"https://data.london.gov.uk/download/uk-house-price-index/70ac0766-8902-4eb5-aab5-01951aaed773/UK%20House%20price%20index.xls\"\n",
    "\n",
    "# The dataset we're interested in contains the Average prices of the houses, and is actually on a particular sheet of the Excel file. \n",
    "# As a result, we need to specify the sheet name in the read_excel() method.\n",
    "# Put this data into a variable called properties.  \n",
    "properties = pd.read_excel(url_LondonHousePrices, sheet_name='Average price', index_col= None)"
   ]
  },
  {
   "cell_type": "markdown",
   "metadata": {
    "colab_type": "text",
    "id": "POukEJXgJpgu"
   },
   "source": [
    "### 2. Cleaning, transforming, and visualizing\n",
    "This second stage is arguably the most important part of any Data Science project. The first thing to do is take a proper look at the data. Cleaning forms the majority of this stage, and can be done both before or after Transformation.\n",
    "\n",
    "The end goal of data cleaning is to have tidy data. When data is tidy: \n",
    "\n",
    "1. Each variable has a column.\n",
    "2. Each observation forms a row.\n",
    "\n",
    "Keep the end goal in mind as you move through this process, every step will take you closer. \n",
    "\n",
    "\n",
    "\n",
    "***Hint:*** This part of the data science pipeline should test those skills you acquired in: \n",
    "- Intermediate Python for data science, all modules.\n",
    "- pandas Foundations, all modules. \n",
    "- Manipulating DataFrames with pandas, all modules.\n",
    "- Data Types for Data Science, Module Four.\n",
    "- Python Data Science Toolbox - Part One, all modules"
   ]
  },
  {
   "cell_type": "markdown",
   "metadata": {
    "colab_type": "text",
    "id": "Te0Q548tnzZa"
   },
   "source": [
    "**2.1. Exploring your data** \n",
    "\n",
    "Think about your pandas functions for checking out a dataframe. "
   ]
  },
  {
   "cell_type": "code",
   "execution_count": 3,
   "metadata": {
    "colab": {},
    "colab_type": "code",
    "id": "Rxirxw_qoAJa"
   },
   "outputs": [
    {
     "name": "stdout",
     "output_type": "stream",
     "text": [
      "(322, 49)\n",
      "  Unnamed: 0 City of London Barking & Dagenham       Barnet       Bexley  \\\n",
      "0        NaT      E09000001          E09000002    E09000003    E09000004   \n",
      "1 1995-01-01    91448.98487         50460.2266  93284.51832  64958.09036   \n",
      "2 1995-02-01    82202.77314        51085.77983  93190.16963  64787.92069   \n",
      "3 1995-03-01    79120.70256        51268.96956  92247.52435  64367.49344   \n",
      "4 1995-04-01    77101.20804        53133.50526  90762.87492  64277.66881   \n",
      "\n",
      "         Brent      Bromley       Camden      Croydon       Ealing  ...  \\\n",
      "0    E09000005    E09000006    E09000007    E09000008    E09000009  ...   \n",
      "1  71306.56698  81671.47692  120932.8881  69158.16225  79885.89069  ...   \n",
      "2  72022.26197  81657.55944  119508.8622  68951.09542  80897.06551  ...   \n",
      "3  72015.76274  81449.31143  120282.2131  68712.44341  81379.86288  ...   \n",
      "4  72965.63094  81124.41227   120097.899  68610.04641  82188.90498  ...   \n",
      "\n",
      "    NORTH WEST YORKS & THE HUMBER EAST MIDLANDS WEST MIDLANDS EAST OF ENGLAND  \\\n",
      "0    E12000002          E12000003     E12000004     E12000005       E12000006   \n",
      "1  43958.48001        44803.42878   45544.52227   48527.52339      56701.5961   \n",
      "2  43925.42289        44528.80721   46051.57066   49341.29029     56593.59475   \n",
      "3   44434.8681        45200.46775   45383.82395   49442.17973     56171.18278   \n",
      "4   44267.7796        45614.34341   46124.23045   49455.93299     56567.89582   \n",
      "\n",
      "        LONDON   SOUTH EAST   SOUTH WEST Unnamed: 47      England  \n",
      "0    E12000007    E12000008    E12000009         NaN    E92000001  \n",
      "1  74435.76052  64018.87894   54705.1579         NaN  53202.77128  \n",
      "2  72777.93709  63715.02399  54356.14843         NaN   53096.1549  \n",
      "3  73896.84204  64113.60858  53583.07667         NaN   53201.2843  \n",
      "4  74455.28754  64623.22395  54786.01938         NaN   53590.8548  \n",
      "\n",
      "[5 rows x 49 columns]\n"
     ]
    }
   ],
   "source": [
    "print(properties.shape)\n",
    "print(properties.head())"
   ]
  },
  {
   "cell_type": "markdown",
   "metadata": {
    "colab_type": "text",
    "id": "tE9Sqt9-oAta"
   },
   "source": [
    "# **2.2. Cleaning the data**\n",
    "\n",
    "You might find you need to transpose your dataframe, check out what its row indexes are, and reset the index. You  also might find you need to assign the values of the first row to your column headings  . (Hint: recall the .columns feature of DataFrames, as well as the iloc[] method).\n",
    "\n",
    "Don't be afraid to use StackOverflow for help  with this."
   ]
  },
  {
   "cell_type": "code",
   "execution_count": 4,
   "metadata": {
    "colab": {},
    "colab_type": "code",
    "id": "cdAu1A3YoH_r"
   },
   "outputs": [
    {
     "name": "stdout",
     "output_type": "stream",
     "text": [
      "0          Unnamed: 0        NaT 1995-01-01 00:00:00 1995-02-01 00:00:00  \\\n",
      "1      City of London  E09000001         91448.98487         82202.77314   \n",
      "2  Barking & Dagenham  E09000002          50460.2266         51085.77983   \n",
      "3              Barnet  E09000003         93284.51832         93190.16963   \n",
      "4              Bexley  E09000004         64958.09036         64787.92069   \n",
      "5               Brent  E09000005         71306.56698         72022.26197   \n",
      "\n",
      "0 1995-03-01 00:00:00 1995-04-01 00:00:00 1995-05-01 00:00:00  \\\n",
      "1         79120.70256         77101.20804         84409.14932   \n",
      "2         51268.96956         53133.50526         53042.24852   \n",
      "3         92247.52435         90762.87492         90258.00033   \n",
      "4         64367.49344         64277.66881         63997.13588   \n",
      "5         72015.76274         72965.63094         73704.04743   \n",
      "\n",
      "0 1995-06-01 00:00:00 1995-07-01 00:00:00 1995-08-01 00:00:00  ...  \\\n",
      "1         94900.51244         110128.0423         112329.4376  ...   \n",
      "2         53700.34831         52113.12157         52232.19868  ...   \n",
      "3         90107.23471         91441.24768         92361.31512  ...   \n",
      "4         64252.32335         63722.70055         64432.60005  ...   \n",
      "5         74310.48167         74127.03788          73547.0411  ...   \n",
      "\n",
      "0 2020-12-01 00:00:00 2021-01-01 00:00:00 2021-02-01 00:00:00  \\\n",
      "1         801999.0466         754194.0982         725011.1264   \n",
      "2         309560.1023         312470.4977         315749.3442   \n",
      "3         532528.0926         538683.8133         537171.1625   \n",
      "4         352260.8385         355756.7322         359323.8616   \n",
      "5         495066.6459         514525.2307         516500.5723   \n",
      "\n",
      "0 2021-03-01 00:00:00 2021-04-01 00:00:00 2021-05-01 00:00:00  \\\n",
      "1         719703.4989         728496.7198         720954.3631   \n",
      "2         312381.5975         313131.2516         312430.6526   \n",
      "3         537972.6322          530778.403         533319.3495   \n",
      "4         361782.2198         362053.2197         361919.1777   \n",
      "5         520406.5733         502074.0621         506917.3065   \n",
      "\n",
      "0 2021-06-01 00:00:00 2021-07-01 00:00:00 2021-08-01 00:00:00  \\\n",
      "1         729878.6878                   -                   -   \n",
      "2         317234.7354         319549.9296         322496.3752   \n",
      "3         541296.7827         536012.6687         544558.8072   \n",
      "4         364464.1865         366451.6388         373547.2951   \n",
      "5         514055.8987         528684.0547         533696.3904   \n",
      "\n",
      "0 2021-09-01 00:00:00  \n",
      "1                   -  \n",
      "2         329287.2922  \n",
      "3          533093.293  \n",
      "4          375156.155  \n",
      "5         542095.3343  \n",
      "\n",
      "[5 rows x 323 columns]\n"
     ]
    }
   ],
   "source": [
    "properties_transposed = properties.transpose()\n",
    "properties_transposed.reset_index(inplace=True)\n",
    "properties_transposed.columns = properties_transposed.iloc[0]\n",
    "properties_transposed.drop([0],inplace=True)\n",
    "print(properties_transposed.head())"
   ]
  },
  {
   "cell_type": "markdown",
   "metadata": {
    "colab_type": "text",
    "id": "o1uLbJAsoIjK"
   },
   "source": [
    "**2.3. Cleaning the data (part 2)**\n",
    "\n",
    "You might we have to **rename** a couple columns. How do you do this? The clue's pretty bold..."
   ]
  },
  {
   "cell_type": "code",
   "execution_count": 5,
   "metadata": {
    "colab": {},
    "colab_type": "code",
    "id": "GKkmn1AnoVZS"
   },
   "outputs": [
    {
     "name": "stdout",
     "output_type": "stream",
     "text": [
      "0             Borough Borough Code 1995-01-01 00:00:00 1995-02-01 00:00:00  \\\n",
      "1      City of London    E09000001         91448.98487         82202.77314   \n",
      "2  Barking & Dagenham    E09000002          50460.2266         51085.77983   \n",
      "3              Barnet    E09000003         93284.51832         93190.16963   \n",
      "4              Bexley    E09000004         64958.09036         64787.92069   \n",
      "5               Brent    E09000005         71306.56698         72022.26197   \n",
      "\n",
      "0 1995-03-01 00:00:00 1995-04-01 00:00:00 1995-05-01 00:00:00  \\\n",
      "1         79120.70256         77101.20804         84409.14932   \n",
      "2         51268.96956         53133.50526         53042.24852   \n",
      "3         92247.52435         90762.87492         90258.00033   \n",
      "4         64367.49344         64277.66881         63997.13588   \n",
      "5         72015.76274         72965.63094         73704.04743   \n",
      "\n",
      "0 1995-06-01 00:00:00 1995-07-01 00:00:00 1995-08-01 00:00:00  ...  \\\n",
      "1         94900.51244         110128.0423         112329.4376  ...   \n",
      "2         53700.34831         52113.12157         52232.19868  ...   \n",
      "3         90107.23471         91441.24768         92361.31512  ...   \n",
      "4         64252.32335         63722.70055         64432.60005  ...   \n",
      "5         74310.48167         74127.03788          73547.0411  ...   \n",
      "\n",
      "0 2020-12-01 00:00:00 2021-01-01 00:00:00 2021-02-01 00:00:00  \\\n",
      "1         801999.0466         754194.0982         725011.1264   \n",
      "2         309560.1023         312470.4977         315749.3442   \n",
      "3         532528.0926         538683.8133         537171.1625   \n",
      "4         352260.8385         355756.7322         359323.8616   \n",
      "5         495066.6459         514525.2307         516500.5723   \n",
      "\n",
      "0 2021-03-01 00:00:00 2021-04-01 00:00:00 2021-05-01 00:00:00  \\\n",
      "1         719703.4989         728496.7198         720954.3631   \n",
      "2         312381.5975         313131.2516         312430.6526   \n",
      "3         537972.6322          530778.403         533319.3495   \n",
      "4         361782.2198         362053.2197         361919.1777   \n",
      "5         520406.5733         502074.0621         506917.3065   \n",
      "\n",
      "0 2021-06-01 00:00:00 2021-07-01 00:00:00 2021-08-01 00:00:00  \\\n",
      "1         729878.6878                   -                   -   \n",
      "2         317234.7354         319549.9296         322496.3752   \n",
      "3         541296.7827         536012.6687         544558.8072   \n",
      "4         364464.1865         366451.6388         373547.2951   \n",
      "5         514055.8987         528684.0547         533696.3904   \n",
      "\n",
      "0 2021-09-01 00:00:00  \n",
      "1                   -  \n",
      "2         329287.2922  \n",
      "3          533093.293  \n",
      "4          375156.155  \n",
      "5         542095.3343  \n",
      "\n",
      "[5 rows x 323 columns]\n"
     ]
    }
   ],
   "source": [
    "properties_transposed.rename(columns={\"Unnamed: 0\": \"Borough\", pd.NaT: \"Borough Code\"},inplace=True)\n",
    "print(properties_transposed.head())"
   ]
  },
  {
   "cell_type": "markdown",
   "metadata": {
    "colab_type": "text",
    "id": "jy8BzXHmoWEw"
   },
   "source": [
    "**2.4.Transforming the data**\n",
    "\n",
    "Remember what Wes McKinney said about tidy data? \n",
    "\n",
    "You might need to **melt** your DataFrame here. "
   ]
  },
  {
   "cell_type": "code",
   "execution_count": 6,
   "metadata": {
    "colab": {},
    "colab_type": "code",
    "id": "S2wM0qLuo2Zt"
   },
   "outputs": [
    {
     "name": "stdout",
     "output_type": "stream",
     "text": [
      "              Borough Borough Code      Month Average House Price\n",
      "0      City of London    E09000001 1995-01-01         91448.98487\n",
      "1  Barking & Dagenham    E09000002 1995-01-01          50460.2266\n",
      "2              Barnet    E09000003 1995-01-01         93284.51832\n",
      "3              Bexley    E09000004 1995-01-01         64958.09036\n",
      "4               Brent    E09000005 1995-01-01         71306.56698\n",
      "(15408, 4)\n"
     ]
    }
   ],
   "source": [
    "properties_melted = pd.melt(properties_transposed,id_vars=[\"Borough\",\"Borough Code\"])\n",
    "properties_melted.rename(columns={0: \"Month\", \"value\": \"Average House Price\"},inplace=True)\n",
    "print(properties_melted.head())\n",
    "print(properties_melted.shape)"
   ]
  },
  {
   "cell_type": "markdown",
   "metadata": {
    "colab_type": "text",
    "id": "7kIsgAo7o3mf"
   },
   "source": [
    "Remember to make sure your column data types are all correct. Average prices, for example, should be floating point numbers... "
   ]
  },
  {
   "cell_type": "code",
   "execution_count": 7,
   "metadata": {
    "colab": {},
    "colab_type": "code",
    "id": "ZcR4IHbcpOaq"
   },
   "outputs": [
    {
     "name": "stdout",
     "output_type": "stream",
     "text": [
      "Borough                        object\n",
      "Borough Code                   object\n",
      "Month                  datetime64[ns]\n",
      "Average House Price            object\n",
      "dtype: object\n",
      "Borough                        object\n",
      "Borough Code                   object\n",
      "Month                  datetime64[ns]\n",
      "Average House Price           float64\n",
      "dtype: object\n"
     ]
    }
   ],
   "source": [
    "print(properties_melted.dtypes)\n",
    "properties_melted['Average House Price'] = pd.to_numeric(properties_melted['Average House Price'], errors='coerce')\n",
    "print(properties_melted.dtypes)"
   ]
  },
  {
   "cell_type": "markdown",
   "metadata": {
    "colab_type": "text",
    "id": "knLUXHLypOtw"
   },
   "source": [
    "**2.5. Cleaning the data (part 3)**\n",
    "\n",
    "Do we have an equal number of observations in the ID, Average Price, Month, and London Borough columns? Remember that there are only 32 London Boroughs. How many entries do you have in that column? \n",
    "\n",
    "Check out the contents of the London Borough column, and if you find null values, get rid of them however you see fit. "
   ]
  },
  {
   "cell_type": "code",
   "execution_count": 8,
   "metadata": {
    "colab": {},
    "colab_type": "code",
    "id": "BnvTW5a3p0fC"
   },
   "outputs": [
    {
     "name": "stdout",
     "output_type": "stream",
     "text": [
      "['City of London' 'Barking & Dagenham' 'Barnet' 'Bexley' 'Brent' 'Bromley'\n",
      " 'Camden' 'Croydon' 'Ealing' 'Enfield' 'Greenwich' 'Hackney'\n",
      " 'Hammersmith & Fulham' 'Haringey' 'Harrow' 'Havering' 'Hillingdon'\n",
      " 'Hounslow' 'Islington' 'Kensington & Chelsea' 'Kingston upon Thames'\n",
      " 'Lambeth' 'Lewisham' 'Merton' 'Newham' 'Redbridge' 'Richmond upon Thames'\n",
      " 'Southwark' 'Sutton' 'Tower Hamlets' 'Waltham Forest' 'Wandsworth'\n",
      " 'Westminster' 'Unnamed: 34' 'Inner London' 'Outer London' 'Unnamed: 37'\n",
      " 'NORTH EAST' 'NORTH WEST' 'YORKS & THE HUMBER' 'EAST MIDLANDS'\n",
      " 'WEST MIDLANDS' 'EAST OF ENGLAND' 'LONDON' 'SOUTH EAST' 'SOUTH WEST'\n",
      " 'Unnamed: 47' 'England']\n"
     ]
    }
   ],
   "source": [
    "print(properties_melted[\"Borough\"].unique())\n",
    "\n",
    "boroughs = ['Barking & Dagenham', 'Barnet', 'Bexley', 'Brent', 'Bromley',\n",
    " 'Camden', 'Croydon', 'Ealing', 'Enfield', 'Greenwich', 'Hackney',\n",
    " 'Hammersmith & Fulham', 'Haringey', 'Harrow', 'Havering', 'Hillingdon',\n",
    " 'Hounslow', 'Islington', 'Kensington & Chelsea', 'Kingston upon Thames',\n",
    " 'Lambeth', 'Lewisham', 'Merton', 'Newham', 'Redbridge', 'Richmond upon Thames',\n",
    " 'Southwark', 'Sutton', 'Tower Hamlets', 'Waltham Forest', 'Wandsworth',\n",
    " 'Westminster']\n",
    "\n",
    "properties_boroughs = properties_melted.loc[properties_melted[\"Borough\"].isin(boroughs)]\n",
    "\n",
    "properties_boroughs = properties_boroughs.dropna()\n"
   ]
  },
  {
   "cell_type": "markdown",
   "metadata": {
    "colab_type": "text",
    "id": "PGEx6mJsp6dG"
   },
   "source": [
    "**2.6. Visualizing the data**\n",
    "\n",
    "To visualize the data, why not subset on a particular London Borough? Maybe do a line plot of Month against Average Price?"
   ]
  },
  {
   "cell_type": "code",
   "execution_count": 9,
   "metadata": {
    "colab": {},
    "colab_type": "code",
    "id": "nAg5pT9cqHAR"
   },
   "outputs": [
    {
     "data": {
      "image/png": "[encoded data removed]",
      "text/plain": [
       "<Figure size 432x288 with 1 Axes>"
      ]
     },
     "metadata": {
      "needs_background": "light"
     },
     "output_type": "display_data"
    }
   ],
   "source": [
    "properties_K_C = properties_boroughs.loc[(properties_boroughs[\"Borough\"] == \"Kensington & Chelsea\")]\n",
    "\n",
    "plt.plot(properties_K_C[\"Month\"],properties_K_C[\"Average House Price\"])\n",
    "plt.title(\"House Prices over Time for Kensington & Chelsea\")\n",
    "plt.xlabel(\"Month\")\n",
    "plt.ylabel(\"Average House Price\")\n",
    "plt.show()"
   ]
  },
  {
   "cell_type": "markdown",
   "metadata": {
    "colab_type": "text",
    "id": "aWTPqSJeqHnC"
   },
   "source": [
    "To limit the number of data points you have, you might want to extract the year from every month value your *Month* column. \n",
    "\n",
    "To this end, you *could* apply a ***lambda function***. Your logic could work as follows:\n",
    "1. look through the `Month` column\n",
    "2. extract the year from each individual value in that column \n",
    "3. store that corresponding year as separate column. \n",
    "\n",
    "Whether you go ahead with this is up to you. Just so long as you answer our initial brief: which boroughs of London have seen the greatest house price increase, on average, over the past two decades? "
   ]
  },
  {
   "cell_type": "code",
   "execution_count": 10,
   "metadata": {
    "colab": {},
    "colab_type": "code",
    "id": "e0DF92cyqnu8"
   },
   "outputs": [],
   "source": [
    "properties_boroughs['Year'] = pd.DatetimeIndex(properties_boroughs[\"Month\"]).year"
   ]
  },
  {
   "cell_type": "markdown",
   "metadata": {
    "colab_type": "text",
    "id": "2knuTxAEqoJ4"
   },
   "source": [
    "**3. Modeling**\n",
    "\n",
    "Consider creating a function that will calculate a ratio of house prices, comparing the price of a house in 2018 to the price in 1998.\n",
    "\n",
    "Consider calling this function create_price_ratio.\n",
    "\n",
    "You'd want this function to:\n",
    "1. Take a filter of dfg, specifically where this filter constrains the London_Borough, as an argument. For example, one admissible argument should be: dfg[dfg['London_Borough']=='Camden'].\n",
    "2. Get the Average Price for that Borough, for the years 1998 and 2018.\n",
    "4. Calculate the ratio of the Average Price for 1998 divided by the Average Price for 2018.\n",
    "5. Return that ratio.\n",
    "\n",
    "Once you've written this function, you ultimately want to use it to iterate through all the unique London_Boroughs and work out the ratio capturing the difference of house prices between 1998 and 2018.\n",
    "\n",
    "Bear in mind: you don't have to write a function like this if you don't want to. If you can solve the brief otherwise, then great! \n",
    "\n",
    "***Hint***: This section should test the skills you acquired in:\n",
    "- Python Data Science Toolbox - Part One, all modules"
   ]
  },
  {
   "cell_type": "code",
   "execution_count": 11,
   "metadata": {
    "colab": {},
    "colab_type": "code",
    "id": "cKTyr437UgDa"
   },
   "outputs": [
    {
     "name": "stdout",
     "output_type": "stream",
     "text": [
      "{'Waltham Forest': 4.080819616722814, 'Hackney': 3.9054986960165836, 'Lewisham': 3.582933155869069, 'Haringey': 3.582596386152764, 'Barking & Dagenham': 3.57746323369812, 'Newham': 3.4946452154716616, 'Brent': 3.3053119359962797, 'Merton': 3.2805755478726946, 'Redbridge': 3.2283078179581675, 'Greenwich': 3.223670706871354, 'Lambeth': 3.2232039403172204, 'Southwark': 3.1793546185587527, 'Westminster': 3.175099137602244, 'Havering': 3.1368578431196195, 'Bexley': 3.127983398161546, 'Enfield': 3.122323117086005, 'Islington': 3.094762993963161, 'Kensington & Chelsea': 3.0547350238300757, 'Camden': 3.018756439147321, 'Ealing': 2.9958621576150906, 'Hillingdon': 2.965158325779596, 'Wandsworth': 2.9349227745210427, 'Croydon': 2.934525785028483, 'Richmond upon Thames': 2.9152116162740804, 'Barnet': 2.893822660314328, 'Sutton': 2.8918356159837164, 'Kingston upon Thames': 2.869158544224091, 'Bromley': 2.868821608471109, 'Harrow': 2.8622843109512908, 'Hammersmith & Fulham': 2.8081149103979905, 'Tower Hamlets': 2.7941473399012553, 'Hounslow': 2.7893913100584475}\n"
     ]
    }
   ],
   "source": [
    "boroughs_ratios = {}\n",
    "\n",
    "for borough in boroughs:\n",
    "    df = properties_boroughs[properties_boroughs[\"Borough\"] == borough]\n",
    "    avg_2001 =  df[df[\"Year\"] == 2001][\"Average House Price\"].mean()\n",
    "    avg_2021 =  df[df[\"Year\"] == 2021][\"Average House Price\"].mean()\n",
    "    ratio = avg_2021/avg_2001\n",
    "    boroughs_ratios[borough] = ratio\n",
    "\n",
    "sorted_br_keys = sorted(boroughs_ratios, key=boroughs_ratios.get, reverse = True)\n",
    "sorted_br_dict = {}\n",
    "\n",
    "for x in sorted_br_keys:\n",
    "    sorted_br_dict[x] = boroughs_ratios[x]\n",
    "\n",
    "print(sorted_br_dict)"
   ]
  },
  {
   "cell_type": "markdown",
   "metadata": {
    "colab_type": "text",
    "id": "NzYUI7FxJpgv"
   },
   "source": [
    "### 4. Conclusion\n",
    "What can you conclude? Type out your conclusion below. \n",
    "\n",
    "Look back at your notebook. Think about how you might summarize what you have done, and prepare a quick presentation on it to your mentor at your next meeting. \n",
    "\n",
    "We hope you enjoyed this practical project. It should have consolidated your data hygiene and pandas skills by looking at a real-world problem involving just the kind of dataset you might encounter as a budding data scientist. Congratulations, and looking forward to seeing you at the next step in the course! "
   ]
  }
 ],
 "metadata": {
  "colab": {
   "collapsed_sections": [],
   "name": "Springboard Data Science Career Track Unit 4 Challenge - Tier 3 Complete .ipynb",
   "provenance": []
  },
  "kernelspec": {
   "display_name": "Python 3 (ipykernel)",
   "language": "python",
   "name": "python3"
  },
  "language_info": {
   "codemirror_mode": {
    "name": "ipython",
    "version": 3
   },
   "file_extension": ".py",
   "mimetype": "text/x-python",
   "name": "python",
   "nbconvert_exporter": "python",
   "pygments_lexer": "ipython3",
   "version": "3.10.0"
  }
 },
 "nbformat": 4,
 "nbformat_minor": 1
}
